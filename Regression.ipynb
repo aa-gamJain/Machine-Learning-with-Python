{
 "cells": [
  {
   "cell_type": "code",
   "execution_count": 1,
   "metadata": {
    "collapsed": false
   },
   "outputs": [
    {
     "name": "stdout",
     "output_type": "stream",
     "text": [
      "Populating the interactive namespace from numpy and matplotlib\n"
     ]
    }
   ],
   "source": [
    "import matplotlib.pyplot as plt\n",
    "%pylab inline"
   ]
  },
  {
   "cell_type": "code",
   "execution_count": 9,
   "metadata": {
    "collapsed": true
   },
   "outputs": [],
   "source": [
    "x = [[6], [8], [10], [14], [18]]\n",
    "y = [[7], [9], [13], [17.5], [18]]"
   ]
  },
  {
   "cell_type": "code",
   "execution_count": 13,
   "metadata": {
    "collapsed": false
   },
   "outputs": [
    {
     "data": {
      "image/png": "[encoded data removed]",
      "text/plain": [
       "<matplotlib.figure.Figure at 0x7961160>"
      ]
     },
     "metadata": {},
     "output_type": "display_data"
    }
   ],
   "source": [
    "plt.figure()\n",
    "plt.title('Pizza price plotted against diameter')\n",
    "plt.xlabel('Diameter in inches')\n",
    "plt.ylabel('Price in dollars')\n",
    "plt.plot(x,y,'k.')\n",
    "plt.axis([0,25,0,25])\n",
    "plt.grid()\n",
    "plt.show()"
   ]
  },
  {
   "cell_type": "code",
   "execution_count": 23,
   "metadata": {
    "collapsed": false
   },
   "outputs": [
    {
     "data": {
      "image/png": "[encoded data removed]",
      "text/plain": [
       "<matplotlib.figure.Figure at 0x8cb7128>"
      ]
     },
     "metadata": {},
     "output_type": "display_data"
    }
   ],
   "source": [
    "plt.figure()\n",
    "plt.title('Pizza price plotted against diameter')\n",
    "plt.xlabel('Diameter in inches')\n",
    "plt.ylabel('Price in dollars')\n",
    "plt.plot(x,y,'k.')\n",
    "plt.plot(x,y)\n",
    "plt.axis([0,25,0,25])\n",
    "plt.grid()\n",
    "plt.show()"
   ]
  },
  {
   "cell_type": "markdown",
   "metadata": {},
   "source": [
    "# The sklearn.linear_model.LinearRegression class is an estimator. Estimators predict a value based on the observed data."
   ]
  },
  {
   "cell_type": "markdown",
   "metadata": {},
   "source": [
    "### 1. In scikit-learn, all estimators implement the fit() and predict() methods\n",
    "### 2. y =\u001f mx+c\n",
    "y is the predicted value of the response variable; in this example, it is the predicted\n",
    "price of the pizza. x is the explanatory variable. The intercept term(m)\u001f and coefficient(c)\n",
    "\u001f are parameters of the model that are learned by the learning algorithm\n",
    "\n",
    "Using training data to learn the values of the parameters for simple linear regression\n",
    "that produce the best fitting model is called ordinary least squares or linear least\n",
    "squares."
   ]
  },
  {
   "cell_type": "code",
   "execution_count": 16,
   "metadata": {
    "collapsed": false
   },
   "outputs": [
    {
     "name": "stdout",
     "output_type": "stream",
     "text": [
      "A 12\" pizza should cost : $13.68\n"
     ]
    },
    {
     "name": "stderr",
     "output_type": "stream",
     "text": [
      "C:\\Anaconda2\\lib\\site-packages\\sklearn\\utils\\validation.py:386: DeprecationWarning: Passing 1d arrays as data is deprecated in 0.17 and willraise ValueError in 0.19. Reshape your data either using X.reshape(-1, 1) if your data has a single feature or X.reshape(1, -1) if it contains a single sample.\n",
      "  DeprecationWarning)\n"
     ]
    }
   ],
   "source": [
    "from sklearn.linear_model import LinearRegression\n",
    "# Training data\n",
    "x = [[6], [8], [10], [14], [18]]\n",
    "y = [[7], [9], [13], [17.5], [18]]\n",
    "# Create and fit the model\n",
    "model=LinearRegression() # model created\n",
    "model.fit(x,y) # model fit\n",
    "print 'A 12\" pizza should cost : $%.2f' % model.predict([12])"
   ]
  },
  {
   "cell_type": "markdown",
   "metadata": {},
   "source": [
    "# Evaluating the fitness of a model with a cost function\n",
    "The differences between the prices predicted by the model and\n",
    "the observed prices of the pizzas in the training set are called residuals or training\n",
    "errors. Later, we will evaluate a model on a separate set of test data; the differences\n",
    "between the predicted and observed values in the test data are called prediction\n",
    "errors or test errors.\n",
    "\n",
    "We can produce the best pizza-price predictor by minimizing the sum of the residuals.\n",
    "That is, our model fits if the values it predicts for the response variable are close to the\n",
    "observed values for all of the training examples. This measure of the model's fitness is\n",
    "called the residual sum of squares cost function\n"
   ]
  },
  {
   "cell_type": "code",
   "execution_count": 24,
   "metadata": {
    "collapsed": false
   },
   "outputs": [
    {
     "name": "stdout",
     "output_type": "stream",
     "text": [
      "Residual sum of squares: 1.75\n"
     ]
    }
   ],
   "source": [
    "import numpy as np\n",
    "print 'Residual sum of squares: %.2f' % np.mean((model.predict(x)-y)**2)"
   ]
  },
  {
   "cell_type": "markdown",
   "metadata": {},
   "source": [
    "# Solving ordinary least squares for simple linear regression\n",
    "   ### y=mx+c\n",
    "Also, recall that our goal is to solve the values of \u001fm and c\u001f that minimize the cost\n",
    "function. We will solve \u001f first. To do so, we will calculate the variance of x and\n",
    "covariance of x and y.\n",
    "\n",
    "Variance is a measure of how far a set of values is spread out. If all of the numbers\n",
    "in the set are equal, the variance of the set is zero. A small variance indicates that the\n",
    "numbers are near the mean of the set, while a set containing numbers that are far\n",
    "from the mean and each other will have a large variance.   \n",
    "\n",
    "                    Var=sum((x-x')^2)/n-1\n",
    "\n",
    "Covariance is a measure of how much two variables change together. If the value of\n",
    "the variables increase together, their covariance is positive. If one variable tends to\n",
    "increase while the other decreases, their covariance is negative. If there is no linear\n",
    "relationship between the two variables, their covariance will be equal to zero; the\n",
    "variables are linearly uncorrelated but not necessarily independent.\n",
    "\n",
    "                    Covariance=sum((x-x')*(y-y'))/n-1"
   ]
  },
  {
   "cell_type": "code",
   "execution_count": 25,
   "metadata": {
    "collapsed": false
   },
   "outputs": [
    {
     "name": "stdout",
     "output_type": "stream",
     "text": [
      "23.2\n"
     ]
    }
   ],
   "source": [
    "#Calculating the variance\n",
    "from __future__ import division\n",
    "xbar=(6+8+10+14+18)/5\n",
    "variance = ((6 - xbar)**2 + (8 - xbar)**2 + (10 - xbar)**2 + (14 -xbar)**2 + (18 - xbar)**2) / 4 # divide by n-1\n",
    "print variance"
   ]
  },
  {
   "cell_type": "code",
   "execution_count": 27,
   "metadata": {
    "collapsed": false
   },
   "outputs": [
    {
     "data": {
      "text/plain": [
       "23.199999999999999"
      ]
     },
     "execution_count": 27,
     "metadata": {},
     "output_type": "execute_result"
    }
   ],
   "source": [
    "# another method\n",
    "np.var([6, 8, 10, 14, 18],ddof=1) #ddof keyword parameter can be used to set Bessel's correction to calculate the sample variance"
   ]
  },
  {
   "cell_type": "code",
   "execution_count": 28,
   "metadata": {
    "collapsed": false
   },
   "outputs": [
    {
     "data": {
      "text/plain": [
       "18.559999999999999"
      ]
     },
     "execution_count": 28,
     "metadata": {},
     "output_type": "execute_result"
    }
   ],
   "source": [
    "np.var([6, 8, 10, 14, 18])"
   ]
  },
  {
   "cell_type": "code",
   "execution_count": 29,
   "metadata": {
    "collapsed": false
   },
   "outputs": [
    {
     "name": "stdout",
     "output_type": "stream",
     "text": [
      "22.65\n"
     ]
    }
   ],
   "source": [
    "#Calculating the covariance\n",
    "xbar = (6 + 8 + 10 + 14 + 18) / 5\n",
    "ybar = (7 + 9 + 13 + 17.5 + 18) / 5\n",
    "cov = ((6 - xbar) * (7 - ybar) + (8 - xbar) * (9 - ybar) + (10 -xbar) * (13 - ybar) +(14 - xbar) * (17.5 - ybar)\n",
    "       + (18 - xbar) * (18 - ybar)) /4  \n",
    "print cov"
   ]
  },
  {
   "cell_type": "code",
   "execution_count": 30,
   "metadata": {
    "collapsed": false
   },
   "outputs": [
    {
     "name": "stdout",
     "output_type": "stream",
     "text": [
      "22.65\n"
     ]
    }
   ],
   "source": [
    "print np.cov([6, 8, 10, 14, 18], [7, 9, 13, 17.5, 18])[0][1]"
   ]
  },
  {
   "cell_type": "code",
   "execution_count": 31,
   "metadata": {
    "collapsed": false
   },
   "outputs": [
    {
     "name": "stdout",
     "output_type": "stream",
     "text": [
      "[[ 23.2   22.65]\n",
      " [ 22.65  24.3 ]]\n"
     ]
    }
   ],
   "source": [
    "print np.cov([6, 8, 10, 14, 18], [7, 9, 13, 17.5, 18])"
   ]
  },
  {
   "cell_type": "markdown",
   "metadata": {},
   "source": [
    "Now that we have calculated the variance of our explanatory variable and the\n",
    "covariance of the response and explanatory variables, we can solve m\u001f using the\n",
    "following formula: .\n",
    "\n",
    "            m=cov(x,y)/var(x).             \n",
    "            \n",
    "Now if we know m, we can solve c by: \n",
    "\n",
    "            c= y'-mx'\n",
    "        here y' is the mean of y and x' is the mean of x and they are the coordinates of the centroid, a point that the model must pass through"
   ]
  },
  {
   "cell_type": "code",
   "execution_count": 32,
   "metadata": {
    "collapsed": false
   },
   "outputs": [
    {
     "data": {
      "text/plain": [
       "0.9762931034482758"
      ]
     },
     "execution_count": 32,
     "metadata": {},
     "output_type": "execute_result"
    }
   ],
   "source": [
    "m=cov/variance\n",
    "m"
   ]
  },
  {
   "cell_type": "code",
   "execution_count": 33,
   "metadata": {
    "collapsed": false
   },
   "outputs": [
    {
     "data": {
      "text/plain": [
       "1.9655172413793114"
      ]
     },
     "execution_count": 33,
     "metadata": {},
     "output_type": "execute_result"
    }
   ],
   "source": [
    "c=ybar-m*xbar\n",
    "c"
   ]
  },
  {
   "cell_type": "markdown",
   "metadata": {},
   "source": [
    "Now that we have solved the values of the model's parameters that minimize the\n",
    "cost function"
   ]
  },
  {
   "cell_type": "markdown",
   "metadata": {},
   "source": [
    "# Evaluating the model\n",
    "We have used a learning algorithm to estimate a model's parameters from the training\n",
    "data. How can we assess whether our model is a good representation of the real\n",
    "relationship?\n",
    "\n",
    "Several measures can be used to assess our model's predictive capabilities. We will\n",
    "evaluate our pizza-price predictor using r-squared. R-squared measures how well\n",
    "the observed values of the response variables are predicted by the model. More\n",
    "concretely, r-squared is the proportion of the variance in the response variable that\n",
    "is explained by the model. An r-squared score of one(1) indicates that the response\n",
    "variable can be predicted without any error using the model. An r-squared score of\n",
    "one half(0.5) indicates that half of the variance in the response variable can be predicted\n",
    "using the model. There are several methods to calculate r-squared. In the case of\n",
    "simple linear regression, r-squared is equal to the square of the Pearson product\n",
    "moment correlation coefficient, or Pearson's r.\n",
    "\n",
    "if r-squared describes the proportion of variance in the\n",
    "response variable explained by the model, it cannot be greater than one or less than\n",
    "zero.\n",
    "\n",
    "First, we must measure the total sum of the squares. i y is the observed value of the\n",
    "response variable for the ith test instance, and y' is the mean of the observed values\n",
    "of the response variable:. \n",
    "\n",
    "                    SS(tot)=sum((y-y')^2)\n",
    "                    \n",
    "Next, we must find the residual sum of the squares. Recall that this is also our\n",
    "cost function:.\n",
    "\n",
    "                    SS(res)=sum((y-f(x))^2)\n",
    "                    f(x): predicted value\n",
    "                    \n",
    "Finally, we can find r-squared using the following formula:\n",
    "                    \n",
    "                    R^2= 1-SS(res)/SS(tot) "
   ]
  },
  {
   "cell_type": "code",
   "execution_count": 34,
   "metadata": {
    "collapsed": false
   },
   "outputs": [
    {
     "name": "stdout",
     "output_type": "stream",
     "text": [
      "R-squared: 0.6620\n"
     ]
    }
   ],
   "source": [
    "x = [[6], [8], [10], [14], [18]]\n",
    "y = [[7], [9], [13], [17.5], [18]]\n",
    "x_test = [[8], [9], [11], [16], [12]]\n",
    "y_test = [[11], [8.5], [15], [18], [11]]\n",
    "model=LinearRegression()\n",
    "model.fit(x,y)\n",
    "print 'R-squared: %.4f' % model.score(x_test, y_test)"
   ]
  },
  {
   "cell_type": "markdown",
   "metadata": {},
   "source": [
    "An r-squared score of 0.6620 indicates that a large proportion of the variance in the\n",
    "test instances' prices is explained by the model"
   ]
  },
  {
   "cell_type": "markdown",
   "metadata": {
    "collapsed": true
   },
   "source": [
    "# Multiple linear regression\n",
    "                Y = c+m1x1+m2x2+... +mnxn\n",
    "                \n",
    " Let's update our pizza-price predictor program to use the second explanatory\n",
    "variable, and compare its performance on the test set to that of the simple linear\n",
    "regression model"
   ]
  },
  {
   "cell_type": "code",
   "execution_count": 2,
   "metadata": {
    "collapsed": false
   },
   "outputs": [
    {
     "name": "stdout",
     "output_type": "stream",
     "text": [
      "Predicted: [ 10.06250019], Target: [11]\n",
      "Predicted: [ 10.28125019], Target: [8.5]\n",
      "Predicted: [ 13.09375019], Target: [15]\n",
      "Predicted: [ 18.14583353], Target: [18]\n",
      "Predicted: [ 13.31250019], Target: [11]\n",
      "R-Squared: 0.77\n"
     ]
    }
   ],
   "source": [
    "from sklearn.linear_model import LinearRegression\n",
    "x = [[6, 2], [8, 1], [10, 0], [14, 2], [18, 0]]\n",
    "y = [[7], [9], [13], [17.5], [18]]\n",
    "model=LinearRegression()\n",
    "model.fit(x,y)\n",
    "x_test = [[8, 2], [9, 0], [11, 2], [16, 2], [12, 0]]\n",
    "y_test = [[11], [8.5], [15], [18], [11]]\n",
    "predictions=model.predict(x_test)\n",
    "for i,prediction in enumerate(predictions):\n",
    "    print 'Predicted: %s, Target: %s' % (prediction,y_test[i])\n",
    "print 'R-Squared: %.2f' % model.score(x_test,y_test)"
   ]
  },
  {
   "cell_type": "markdown",
   "metadata": {},
   "source": [
    "It appears that adding the number of toppings as an explanatory variable has\n",
    "improved the performance of our model"
   ]
  },
  {
   "cell_type": "markdown",
   "metadata": {},
   "source": [
    "# Polynomial regression\n",
    "                            y=c+m1*x+m2*x^2\n",
    "                            \n",
    " The Polynomial Features transformer can be used to easily add\n",
    "polynomial features to a feature representation"
   ]
  },
  {
   "cell_type": "code",
   "execution_count": 12,
   "metadata": {
    "collapsed": false
   },
   "outputs": [
    {
     "data": {
      "text/plain": [
       "array([[ 0.        ],\n",
       "       [ 0.26262626],\n",
       "       [ 0.52525253],\n",
       "       [ 0.78787879],\n",
       "       [ 1.05050505],\n",
       "       [ 1.31313131],\n",
       "       [ 1.57575758],\n",
       "       [ 1.83838384],\n",
       "       [ 2.1010101 ],\n",
       "       [ 2.36363636]])"
      ]
     },
     "execution_count": 12,
     "metadata": {},
     "output_type": "execute_result"
    }
   ],
   "source": [
    "xx.reshape(xx.shape[0],1)[:10]"
   ]
  },
  {
   "cell_type": "code",
   "execution_count": 7,
   "metadata": {
    "collapsed": false
   },
   "outputs": [
    {
     "data": {
      "image/png": "[encoded data removed]",
      "text/plain": [
       "<matplotlib.figure.Figure at 0x86ba748>"
      ]
     },
     "metadata": {},
     "output_type": "display_data"
    },
    {
     "name": "stdout",
     "output_type": "stream",
     "text": [
      "[[6], [8], [10], [14], [18]]\n",
      "[[   1.    6.   36.]\n",
      " [   1.    8.   64.]\n",
      " [   1.   10.  100.]\n",
      " [   1.   14.  196.]\n",
      " [   1.   18.  324.]]\n",
      "[[6], [8], [11], [16]]\n",
      "[[   1.    6.   36.]\n",
      " [   1.    8.   64.]\n",
      " [   1.   11.  121.]\n",
      " [   1.   16.  256.]]\n",
      "Simple Linear Regression R-Squared: 0.8097268325\n",
      "Quadrtic Regression R-Squared: 0.8675443656\n"
     ]
    }
   ],
   "source": [
    "import numpy as np\n",
    "from sklearn.preprocessing import PolynomialFeatures\n",
    "x_train = [[6], [8], [10], [14], [18]]\n",
    "y_train = [[7], [9], [13], [17.5], [18]]\n",
    "x_test = [[6], [8], [11], [16]]\n",
    "y_test = [[8], [12], [15], [18]]\n",
    "regressor = LinearRegression()\n",
    "regressor.fit(x_train,y_train)\n",
    "xx = np.linspace(0,26,100)\n",
    "yy = regressor.predict(xx.reshape(xx.shape[0],1))\n",
    "plt.plot(xx,yy)\n",
    "\n",
    "quadrtic_featurizer = PolynomialFeatures(degree=2)\n",
    "x_train_quadrtic = quadrtic_featurizer.fit_transform(x_train)\n",
    "x_test_quadrtic = quadrtic_featurizer.transform(x_test)\n",
    "\n",
    "regressor_quadrtic = LinearRegression()\n",
    "regressor_quadrtic.fit(x_train_quadrtic,y_train)\n",
    "xx_quadrtic = quadrtic_featurizer.transform(xx.reshape(xx.shape[0],1))\n",
    "\n",
    "plt.plot(xx,regressor_quadrtic.predict(xx_quadrtic),c='r',linestyle='--')\n",
    "plt.title('Pizza price regressed on diameter')\n",
    "plt.xlabel('Diameter in inches')\n",
    "plt.ylabel('Price in dollars')\n",
    "plt.axis([0, 25, 0, 25])\n",
    "plt.grid(True)\n",
    "plt.scatter(x_train,y_train)\n",
    "plt.show()\n",
    "\n",
    "print x_train\n",
    "print x_train_quadrtic\n",
    "print x_test\n",
    "print x_test_quadrtic\n",
    "print 'Simple Linear Regression R-Squared: %.10f' % regressor.score(x_test,y_test)\n",
    "print 'Quadrtic Regression R-Squared: %.10f' % regressor_quadrtic.score(x_test_quadrtic,y_test)\n"
   ]
  },
  {
   "cell_type": "markdown",
   "metadata": {},
   "source": [
    "The simple linear regression model is plotted with the solid line in the following\n",
    "figure. Plotted with a dashed line, the quadratic regression model visibly fits the\n",
    "training data better\n",
    "\n",
    "The r-squared score of the simple linear regression model is 0.81; the quadratic\n",
    "regression model's r-squared score is an improvement at 0.87. While quadratic\n",
    "and cubic regression models are the most common, we can add polynomials of\n",
    "any degree."
   ]
  },
  {
   "cell_type": "code",
   "execution_count": 14,
   "metadata": {
    "collapsed": false
   },
   "outputs": [
    {
     "data": {
      "image/png": "[encoded data removed]",
      "text/plain": [
       "<matplotlib.figure.Figure at 0x8543128>"
      ]
     },
     "metadata": {},
     "output_type": "display_data"
    },
    {
     "name": "stdout",
     "output_type": "stream",
     "text": [
      "Quadrtic Regression R-Squared: 0.8675443656\n",
      "Cubic Regression R-Squared: 0.8356924156\n"
     ]
    }
   ],
   "source": [
    "#The following figure plots the quadratic and cubic models\n",
    "x_train = [[6], [8], [10], [14], [18]]\n",
    "y_train = [[7], [9], [13], [17.5], [18]]\n",
    "x_test = [[6], [8], [11], [16]]\n",
    "y_test = [[8], [12], [15], [18]]\n",
    "xx = np.linspace(0,26,100)\n",
    "\n",
    "quadrtic_featurizer = PolynomialFeatures(degree=2)\n",
    "x_train_quadrtic = quadrtic_featurizer.fit_transform(x_train)\n",
    "x_test_quadrtic = quadrtic_featurizer.transform(x_test)\n",
    "\n",
    "regressor_quadrtic = LinearRegression()\n",
    "regressor_quadrtic.fit(x_train_quadrtic,y_train)\n",
    "xx_quadrtic = quadrtic_featurizer.transform(xx.reshape(xx.shape[0],1))\n",
    "plt.plot(xx,regressor_quadrtic.predict(xx_quadrtic),c='b',linestyle='--')\n",
    "\n",
    "cubic_featurizer = PolynomialFeatures(degree=3)\n",
    "x_train_cubic = cubic_featurizer.fit_transform(x_train)\n",
    "x_test_cubic = cubic_featurizer.transform(x_test)\n",
    "\n",
    "regressor_cubic = LinearRegression()\n",
    "regressor_cubic.fit(x_train_cubic,y_train)\n",
    "xx_cubic = cubic_featurizer.transform(xx.reshape(xx.shape[0],1))\n",
    "plt.plot(xx,regressor_cubic.predict(xx_cubic),c='g')\n",
    "\n",
    "plt.title('Pizza price regressed on diameter')\n",
    "plt.xlabel('Diameter in inches')\n",
    "plt.ylabel('Price in dollars')\n",
    "plt.axis([0, 25, 0, 25])\n",
    "plt.grid(True)\n",
    "plt.scatter(x_train,y_train)\n",
    "plt.show()\n",
    "\n",
    "print 'Quadrtic Regression R-Squared: %.10f' % regressor_quadrtic.score(x_test_quadrtic,y_test)\n",
    "print 'Cubic Regression R-Squared: %.10f' % regressor_cubic.score(x_test_cubic,y_test)"
   ]
  },
  {
   "cell_type": "code",
   "execution_count": 15,
   "metadata": {
    "collapsed": false
   },
   "outputs": [
    {
     "data": {
      "image/png": "[encoded data removed]",
      "text/plain": [
       "<matplotlib.figure.Figure at 0x87a6198>"
      ]
     },
     "metadata": {},
     "output_type": "display_data"
    },
    {
     "name": "stdout",
     "output_type": "stream",
     "text": [
      "Quadrtic Regression R-Squared: 0.8675443656\n",
      "Ninth-Degree Regression R-Squared: -0.0943566670\n"
     ]
    }
   ],
   "source": [
    "#The following figure plots the quadratic and ninth-degree models\n",
    "#here cubic means 9th degree\n",
    "x_train = [[6], [8], [10], [14], [18]]\n",
    "y_train = [[7], [9], [13], [17.5], [18]]\n",
    "x_test = [[6], [8], [11], [16]]\n",
    "y_test = [[8], [12], [15], [18]]\n",
    "xx = np.linspace(0,26,100)\n",
    "\n",
    "quadrtic_featurizer = PolynomialFeatures(degree=2)\n",
    "x_train_quadrtic = quadrtic_featurizer.fit_transform(x_train)\n",
    "x_test_quadrtic = quadrtic_featurizer.transform(x_test)\n",
    "\n",
    "regressor_quadrtic = LinearRegression()\n",
    "regressor_quadrtic.fit(x_train_quadrtic,y_train)\n",
    "xx_quadrtic = quadrtic_featurizer.transform(xx.reshape(xx.shape[0],1))\n",
    "plt.plot(xx,regressor_quadrtic.predict(xx_quadrtic),c='b',linestyle='--')\n",
    "\n",
    "cubic_featurizer = PolynomialFeatures(degree=9)\n",
    "x_train_cubic = cubic_featurizer.fit_transform(x_train)\n",
    "x_test_cubic = cubic_featurizer.transform(x_test)\n",
    "\n",
    "regressor_cubic = LinearRegression()\n",
    "regressor_cubic.fit(x_train_cubic,y_train)\n",
    "xx_cubic = cubic_featurizer.transform(xx.reshape(xx.shape[0],1))\n",
    "plt.plot(xx,regressor_cubic.predict(xx_cubic),c='g')\n",
    "\n",
    "plt.title('Pizza price regressed on diameter')\n",
    "plt.xlabel('Diameter in inches')\n",
    "plt.ylabel('Price in dollars')\n",
    "plt.axis([0, 25, 0, 25])\n",
    "plt.grid(True)\n",
    "plt.scatter(x_train,y_train)\n",
    "plt.show()\n",
    "\n",
    "print 'Quadrtic Regression R-Squared: %.10f' % regressor_quadrtic.score(x_test_quadrtic,y_test)\n",
    "print 'Ninth-Degree Regression R-Squared: %.10f' % regressor_cubic.score(x_test_cubic,y_test)"
   ]
  },
  {
   "cell_type": "markdown",
   "metadata": {},
   "source": [
    "The ninth-degree polynomial regression model fits the training data almost exactly!\n",
    "The model's r-squared score, however, is -0.09. We created an extremely complex\n",
    "model that fits the training data exactly, but fails to approximate the real relationship.\n",
    "This problem is called over-fitting. The model should induce a general rule to map\n",
    "inputs to outputs; instead, it has memorized the inputs and outputs from the training\n",
    "data. As a result, the model performs poorly on test data. It predicts that a 16 inch\n",
    "pizza should cost less than $10, and an 18 inch pizza should cost more than $30. This\n",
    "model exactly fits the training data, but fails to learn the real relationship between size\n",
    "and price."
   ]
  },
  {
   "cell_type": "markdown",
   "metadata": {},
   "source": [
    "# Regularization\n",
    "Regularization is a collection of techniques that can be used to prevent over-fitting.\n",
    "Regularization adds information to a problem, often in the form of a penalty against\n",
    "complexity, to a problem.\n",
    "\n",
    "Occam's razor states that a hypothesis with the fewest\n",
    "assumptions is the best. Accordingly, regularization attempts to find the simplest\n",
    "model that explains the data."
   ]
  },
  {
   "cell_type": "code",
   "execution_count": 20,
   "metadata": {
    "collapsed": false
   },
   "outputs": [
    {
     "data": {
      "text/html": [
       "<div>\n",
       "<table border=\"1\" class=\"dataframe\">\n",
       "  <thead>\n",
       "    <tr style=\"text-align: right;\">\n",
       "      <th></th>\n",
       "      <th>fixed acidity</th>\n",
       "      <th>volatile acidity</th>\n",
       "      <th>citric acid</th>\n",
       "      <th>residual sugar</th>\n",
       "      <th>chlorides</th>\n",
       "      <th>free sulfur dioxide</th>\n",
       "      <th>total sulfur dioxide</th>\n",
       "      <th>density</th>\n",
       "      <th>pH</th>\n",
       "      <th>sulphates</th>\n",
       "      <th>alcohol</th>\n",
       "      <th>quality</th>\n",
       "    </tr>\n",
       "  </thead>\n",
       "  <tbody>\n",
       "    <tr>\n",
       "      <th>count</th>\n",
       "      <td>1599.000000</td>\n",
       "      <td>1599.000000</td>\n",
       "      <td>1599.000000</td>\n",
       "      <td>1599.000000</td>\n",
       "      <td>1599.000000</td>\n",
       "      <td>1599.000000</td>\n",
       "      <td>1599.000000</td>\n",
       "      <td>1599.000000</td>\n",
       "      <td>1599.000000</td>\n",
       "      <td>1599.000000</td>\n",
       "      <td>1599.000000</td>\n",
       "      <td>1599.000000</td>\n",
       "    </tr>\n",
       "    <tr>\n",
       "      <th>mean</th>\n",
       "      <td>8.319637</td>\n",
       "      <td>0.527821</td>\n",
       "      <td>0.270976</td>\n",
       "      <td>2.538806</td>\n",
       "      <td>0.087467</td>\n",
       "      <td>15.874922</td>\n",
       "      <td>46.467792</td>\n",
       "      <td>0.996747</td>\n",
       "      <td>3.311113</td>\n",
       "      <td>0.658149</td>\n",
       "      <td>10.422983</td>\n",
       "      <td>5.636023</td>\n",
       "    </tr>\n",
       "    <tr>\n",
       "      <th>std</th>\n",
       "      <td>1.741096</td>\n",
       "      <td>0.179060</td>\n",
       "      <td>0.194801</td>\n",
       "      <td>1.409928</td>\n",
       "      <td>0.047065</td>\n",
       "      <td>10.460157</td>\n",
       "      <td>32.895324</td>\n",
       "      <td>0.001887</td>\n",
       "      <td>0.154386</td>\n",
       "      <td>0.169507</td>\n",
       "      <td>1.065668</td>\n",
       "      <td>0.807569</td>\n",
       "    </tr>\n",
       "    <tr>\n",
       "      <th>min</th>\n",
       "      <td>4.600000</td>\n",
       "      <td>0.120000</td>\n",
       "      <td>0.000000</td>\n",
       "      <td>0.900000</td>\n",
       "      <td>0.012000</td>\n",
       "      <td>1.000000</td>\n",
       "      <td>6.000000</td>\n",
       "      <td>0.990070</td>\n",
       "      <td>2.740000</td>\n",
       "      <td>0.330000</td>\n",
       "      <td>8.400000</td>\n",
       "      <td>3.000000</td>\n",
       "    </tr>\n",
       "    <tr>\n",
       "      <th>25%</th>\n",
       "      <td>7.100000</td>\n",
       "      <td>0.390000</td>\n",
       "      <td>0.090000</td>\n",
       "      <td>1.900000</td>\n",
       "      <td>0.070000</td>\n",
       "      <td>7.000000</td>\n",
       "      <td>22.000000</td>\n",
       "      <td>0.995600</td>\n",
       "      <td>3.210000</td>\n",
       "      <td>0.550000</td>\n",
       "      <td>9.500000</td>\n",
       "      <td>5.000000</td>\n",
       "    </tr>\n",
       "    <tr>\n",
       "      <th>50%</th>\n",
       "      <td>7.900000</td>\n",
       "      <td>0.520000</td>\n",
       "      <td>0.260000</td>\n",
       "      <td>2.200000</td>\n",
       "      <td>0.079000</td>\n",
       "      <td>14.000000</td>\n",
       "      <td>38.000000</td>\n",
       "      <td>0.996750</td>\n",
       "      <td>3.310000</td>\n",
       "      <td>0.620000</td>\n",
       "      <td>10.200000</td>\n",
       "      <td>6.000000</td>\n",
       "    </tr>\n",
       "    <tr>\n",
       "      <th>75%</th>\n",
       "      <td>9.200000</td>\n",
       "      <td>0.640000</td>\n",
       "      <td>0.420000</td>\n",
       "      <td>2.600000</td>\n",
       "      <td>0.090000</td>\n",
       "      <td>21.000000</td>\n",
       "      <td>62.000000</td>\n",
       "      <td>0.997835</td>\n",
       "      <td>3.400000</td>\n",
       "      <td>0.730000</td>\n",
       "      <td>11.100000</td>\n",
       "      <td>6.000000</td>\n",
       "    </tr>\n",
       "    <tr>\n",
       "      <th>max</th>\n",
       "      <td>15.900000</td>\n",
       "      <td>1.580000</td>\n",
       "      <td>1.000000</td>\n",
       "      <td>15.500000</td>\n",
       "      <td>0.611000</td>\n",
       "      <td>72.000000</td>\n",
       "      <td>289.000000</td>\n",
       "      <td>1.003690</td>\n",
       "      <td>4.010000</td>\n",
       "      <td>2.000000</td>\n",
       "      <td>14.900000</td>\n",
       "      <td>8.000000</td>\n",
       "    </tr>\n",
       "  </tbody>\n",
       "</table>\n",
       "</div>"
      ],
      "text/plain": [
       "       fixed acidity  volatile acidity  citric acid  residual sugar  \\\n",
       "count    1599.000000       1599.000000  1599.000000     1599.000000   \n",
       "mean        8.319637          0.527821     0.270976        2.538806   \n",
       "std         1.741096          0.179060     0.194801        1.409928   \n",
       "min         4.600000          0.120000     0.000000        0.900000   \n",
       "25%         7.100000          0.390000     0.090000        1.900000   \n",
       "50%         7.900000          0.520000     0.260000        2.200000   \n",
       "75%         9.200000          0.640000     0.420000        2.600000   \n",
       "max        15.900000          1.580000     1.000000       15.500000   \n",
       "\n",
       "         chlorides  free sulfur dioxide  total sulfur dioxide      density  \\\n",
       "count  1599.000000          1599.000000           1599.000000  1599.000000   \n",
       "mean      0.087467            15.874922             46.467792     0.996747   \n",
       "std       0.047065            10.460157             32.895324     0.001887   \n",
       "min       0.012000             1.000000              6.000000     0.990070   \n",
       "25%       0.070000             7.000000             22.000000     0.995600   \n",
       "50%       0.079000            14.000000             38.000000     0.996750   \n",
       "75%       0.090000            21.000000             62.000000     0.997835   \n",
       "max       0.611000            72.000000            289.000000     1.003690   \n",
       "\n",
       "                pH    sulphates      alcohol      quality  \n",
       "count  1599.000000  1599.000000  1599.000000  1599.000000  \n",
       "mean      3.311113     0.658149    10.422983     5.636023  \n",
       "std       0.154386     0.169507     1.065668     0.807569  \n",
       "min       2.740000     0.330000     8.400000     3.000000  \n",
       "25%       3.210000     0.550000     9.500000     5.000000  \n",
       "50%       3.310000     0.620000    10.200000     6.000000  \n",
       "75%       3.400000     0.730000    11.100000     6.000000  \n",
       "max       4.010000     2.000000    14.900000     8.000000  "
      ]
     },
     "execution_count": 20,
     "metadata": {},
     "output_type": "execute_result"
    }
   ],
   "source": [
    "#Now Applying LinearRegression to real Data\n",
    "import pandas as pd\n",
    "#df = pd.read_csv('C://Users//aagam//Desktop//DataSets//Mastering Machine Learning with scikit learn//8365OS_Final code//8365OS_02_Codes//winequality-red.csv',sep=';')\n",
    "df = pd.read_csv('./winequality-red.csv',sep=';')\n",
    "df.describe()"
   ]
  },
  {
   "cell_type": "code",
   "execution_count": 21,
   "metadata": {
    "collapsed": false
   },
   "outputs": [
    {
     "data": {
      "image/png": "[encoded data removed]",
      "text/plain": [
       "<matplotlib.figure.Figure at 0x7f758d0>"
      ]
     },
     "metadata": {},
     "output_type": "display_data"
    }
   ],
   "source": [
    "import matplotlib.pylab as plt\n",
    ">>> plt.scatter(df['alcohol'], df['quality'])\n",
    ">>> plt.xlabel('Alcohol')\n",
    ">>> plt.ylabel('Quality')\n",
    ">>> plt.title('Alcohol Against Quality')\n",
    ">>> plt.show()"
   ]
  },
  {
   "cell_type": "code",
   "execution_count": 22,
   "metadata": {
    "collapsed": false
   },
   "outputs": [
    {
     "data": {
      "image/png": "[encoded data removed]",
      "text/plain": [
       "<matplotlib.figure.Figure at 0x886da20>"
      ]
     },
     "metadata": {},
     "output_type": "display_data"
    }
   ],
   "source": [
    ">>> plt.scatter(df['volatile acidity'], df['quality'])\n",
    ">>> plt.xlabel('volatile acidity')\n",
    ">>> plt.ylabel('Quality')\n",
    ">>> plt.title('Volatile Acidity Against Quality')\n",
    ">>> plt.show()"
   ]
  },
  {
   "cell_type": "markdown",
   "metadata": {},
   "source": [
    "These plots suggest that the response variable depends on multiple explanatory\n",
    "variables; let's model the relationship with multiple linear regression. How can we\n",
    "decide which explanatory variables to include in the model? Dataframe.corr()\n",
    "calculates a pairwise correlation matrix. The correlation matrix confirms that the\n",
    "strongest positive correlation is between the alcohol and quality, and that quality\n",
    "is negatively correlated with volatile acidity, an attribute that can cause wine to\n",
    "taste like vinegar. To summarize, we have hypothesized that good wines have high\n",
    "alcohol content and do not taste like vinegar. This hypothesis seems sensible, though\n",
    "it suggests that wine aficionados may have less sophisticated palates than they claim."
   ]
  },
  {
   "cell_type": "code",
   "execution_count": 26,
   "metadata": {
    "collapsed": false
   },
   "outputs": [
    {
     "data": {
      "text/html": [
       "<div>\n",
       "<table border=\"1\" class=\"dataframe\">\n",
       "  <thead>\n",
       "    <tr style=\"text-align: right;\">\n",
       "      <th></th>\n",
       "      <th>fixed acidity</th>\n",
       "      <th>volatile acidity</th>\n",
       "      <th>citric acid</th>\n",
       "      <th>residual sugar</th>\n",
       "      <th>chlorides</th>\n",
       "      <th>free sulfur dioxide</th>\n",
       "      <th>total sulfur dioxide</th>\n",
       "      <th>density</th>\n",
       "      <th>pH</th>\n",
       "      <th>sulphates</th>\n",
       "      <th>alcohol</th>\n",
       "      <th>quality</th>\n",
       "    </tr>\n",
       "  </thead>\n",
       "  <tbody>\n",
       "    <tr>\n",
       "      <th>fixed acidity</th>\n",
       "      <td>1.000000</td>\n",
       "      <td>-0.256131</td>\n",
       "      <td>0.671703</td>\n",
       "      <td>0.114777</td>\n",
       "      <td>0.093705</td>\n",
       "      <td>-0.153794</td>\n",
       "      <td>-0.113181</td>\n",
       "      <td>0.668047</td>\n",
       "      <td>-0.682978</td>\n",
       "      <td>0.183006</td>\n",
       "      <td>-0.061668</td>\n",
       "      <td>0.124052</td>\n",
       "    </tr>\n",
       "    <tr>\n",
       "      <th>volatile acidity</th>\n",
       "      <td>-0.256131</td>\n",
       "      <td>1.000000</td>\n",
       "      <td>-0.552496</td>\n",
       "      <td>0.001918</td>\n",
       "      <td>0.061298</td>\n",
       "      <td>-0.010504</td>\n",
       "      <td>0.076470</td>\n",
       "      <td>0.022026</td>\n",
       "      <td>0.234937</td>\n",
       "      <td>-0.260987</td>\n",
       "      <td>-0.202288</td>\n",
       "      <td>-0.390558</td>\n",
       "    </tr>\n",
       "    <tr>\n",
       "      <th>citric acid</th>\n",
       "      <td>0.671703</td>\n",
       "      <td>-0.552496</td>\n",
       "      <td>1.000000</td>\n",
       "      <td>0.143577</td>\n",
       "      <td>0.203823</td>\n",
       "      <td>-0.060978</td>\n",
       "      <td>0.035533</td>\n",
       "      <td>0.364947</td>\n",
       "      <td>-0.541904</td>\n",
       "      <td>0.312770</td>\n",
       "      <td>0.109903</td>\n",
       "      <td>0.226373</td>\n",
       "    </tr>\n",
       "    <tr>\n",
       "      <th>residual sugar</th>\n",
       "      <td>0.114777</td>\n",
       "      <td>0.001918</td>\n",
       "      <td>0.143577</td>\n",
       "      <td>1.000000</td>\n",
       "      <td>0.055610</td>\n",
       "      <td>0.187049</td>\n",
       "      <td>0.203028</td>\n",
       "      <td>0.355283</td>\n",
       "      <td>-0.085652</td>\n",
       "      <td>0.005527</td>\n",
       "      <td>0.042075</td>\n",
       "      <td>0.013732</td>\n",
       "    </tr>\n",
       "    <tr>\n",
       "      <th>chlorides</th>\n",
       "      <td>0.093705</td>\n",
       "      <td>0.061298</td>\n",
       "      <td>0.203823</td>\n",
       "      <td>0.055610</td>\n",
       "      <td>1.000000</td>\n",
       "      <td>0.005562</td>\n",
       "      <td>0.047400</td>\n",
       "      <td>0.200632</td>\n",
       "      <td>-0.265026</td>\n",
       "      <td>0.371260</td>\n",
       "      <td>-0.221141</td>\n",
       "      <td>-0.128907</td>\n",
       "    </tr>\n",
       "    <tr>\n",
       "      <th>free sulfur dioxide</th>\n",
       "      <td>-0.153794</td>\n",
       "      <td>-0.010504</td>\n",
       "      <td>-0.060978</td>\n",
       "      <td>0.187049</td>\n",
       "      <td>0.005562</td>\n",
       "      <td>1.000000</td>\n",
       "      <td>0.667666</td>\n",
       "      <td>-0.021946</td>\n",
       "      <td>0.070377</td>\n",
       "      <td>0.051658</td>\n",
       "      <td>-0.069408</td>\n",
       "      <td>-0.050656</td>\n",
       "    </tr>\n",
       "    <tr>\n",
       "      <th>total sulfur dioxide</th>\n",
       "      <td>-0.113181</td>\n",
       "      <td>0.076470</td>\n",
       "      <td>0.035533</td>\n",
       "      <td>0.203028</td>\n",
       "      <td>0.047400</td>\n",
       "      <td>0.667666</td>\n",
       "      <td>1.000000</td>\n",
       "      <td>0.071269</td>\n",
       "      <td>-0.066495</td>\n",
       "      <td>0.042947</td>\n",
       "      <td>-0.205654</td>\n",
       "      <td>-0.185100</td>\n",
       "    </tr>\n",
       "    <tr>\n",
       "      <th>density</th>\n",
       "      <td>0.668047</td>\n",
       "      <td>0.022026</td>\n",
       "      <td>0.364947</td>\n",
       "      <td>0.355283</td>\n",
       "      <td>0.200632</td>\n",
       "      <td>-0.021946</td>\n",
       "      <td>0.071269</td>\n",
       "      <td>1.000000</td>\n",
       "      <td>-0.341699</td>\n",
       "      <td>0.148506</td>\n",
       "      <td>-0.496180</td>\n",
       "      <td>-0.174919</td>\n",
       "    </tr>\n",
       "    <tr>\n",
       "      <th>pH</th>\n",
       "      <td>-0.682978</td>\n",
       "      <td>0.234937</td>\n",
       "      <td>-0.541904</td>\n",
       "      <td>-0.085652</td>\n",
       "      <td>-0.265026</td>\n",
       "      <td>0.070377</td>\n",
       "      <td>-0.066495</td>\n",
       "      <td>-0.341699</td>\n",
       "      <td>1.000000</td>\n",
       "      <td>-0.196648</td>\n",
       "      <td>0.205633</td>\n",
       "      <td>-0.057731</td>\n",
       "    </tr>\n",
       "    <tr>\n",
       "      <th>sulphates</th>\n",
       "      <td>0.183006</td>\n",
       "      <td>-0.260987</td>\n",
       "      <td>0.312770</td>\n",
       "      <td>0.005527</td>\n",
       "      <td>0.371260</td>\n",
       "      <td>0.051658</td>\n",
       "      <td>0.042947</td>\n",
       "      <td>0.148506</td>\n",
       "      <td>-0.196648</td>\n",
       "      <td>1.000000</td>\n",
       "      <td>0.093595</td>\n",
       "      <td>0.251397</td>\n",
       "    </tr>\n",
       "    <tr>\n",
       "      <th>alcohol</th>\n",
       "      <td>-0.061668</td>\n",
       "      <td>-0.202288</td>\n",
       "      <td>0.109903</td>\n",
       "      <td>0.042075</td>\n",
       "      <td>-0.221141</td>\n",
       "      <td>-0.069408</td>\n",
       "      <td>-0.205654</td>\n",
       "      <td>-0.496180</td>\n",
       "      <td>0.205633</td>\n",
       "      <td>0.093595</td>\n",
       "      <td>1.000000</td>\n",
       "      <td>0.476166</td>\n",
       "    </tr>\n",
       "    <tr>\n",
       "      <th>quality</th>\n",
       "      <td>0.124052</td>\n",
       "      <td>-0.390558</td>\n",
       "      <td>0.226373</td>\n",
       "      <td>0.013732</td>\n",
       "      <td>-0.128907</td>\n",
       "      <td>-0.050656</td>\n",
       "      <td>-0.185100</td>\n",
       "      <td>-0.174919</td>\n",
       "      <td>-0.057731</td>\n",
       "      <td>0.251397</td>\n",
       "      <td>0.476166</td>\n",
       "      <td>1.000000</td>\n",
       "    </tr>\n",
       "  </tbody>\n",
       "</table>\n",
       "</div>"
      ],
      "text/plain": [
       "                      fixed acidity  volatile acidity  citric acid  \\\n",
       "fixed acidity              1.000000         -0.256131     0.671703   \n",
       "volatile acidity          -0.256131          1.000000    -0.552496   \n",
       "citric acid                0.671703         -0.552496     1.000000   \n",
       "residual sugar             0.114777          0.001918     0.143577   \n",
       "chlorides                  0.093705          0.061298     0.203823   \n",
       "free sulfur dioxide       -0.153794         -0.010504    -0.060978   \n",
       "total sulfur dioxide      -0.113181          0.076470     0.035533   \n",
       "density                    0.668047          0.022026     0.364947   \n",
       "pH                        -0.682978          0.234937    -0.541904   \n",
       "sulphates                  0.183006         -0.260987     0.312770   \n",
       "alcohol                   -0.061668         -0.202288     0.109903   \n",
       "quality                    0.124052         -0.390558     0.226373   \n",
       "\n",
       "                      residual sugar  chlorides  free sulfur dioxide  \\\n",
       "fixed acidity               0.114777   0.093705            -0.153794   \n",
       "volatile acidity            0.001918   0.061298            -0.010504   \n",
       "citric acid                 0.143577   0.203823            -0.060978   \n",
       "residual sugar              1.000000   0.055610             0.187049   \n",
       "chlorides                   0.055610   1.000000             0.005562   \n",
       "free sulfur dioxide         0.187049   0.005562             1.000000   \n",
       "total sulfur dioxide        0.203028   0.047400             0.667666   \n",
       "density                     0.355283   0.200632            -0.021946   \n",
       "pH                         -0.085652  -0.265026             0.070377   \n",
       "sulphates                   0.005527   0.371260             0.051658   \n",
       "alcohol                     0.042075  -0.221141            -0.069408   \n",
       "quality                     0.013732  -0.128907            -0.050656   \n",
       "\n",
       "                      total sulfur dioxide   density        pH  sulphates  \\\n",
       "fixed acidity                    -0.113181  0.668047 -0.682978   0.183006   \n",
       "volatile acidity                  0.076470  0.022026  0.234937  -0.260987   \n",
       "citric acid                       0.035533  0.364947 -0.541904   0.312770   \n",
       "residual sugar                    0.203028  0.355283 -0.085652   0.005527   \n",
       "chlorides                         0.047400  0.200632 -0.265026   0.371260   \n",
       "free sulfur dioxide               0.667666 -0.021946  0.070377   0.051658   \n",
       "total sulfur dioxide              1.000000  0.071269 -0.066495   0.042947   \n",
       "density                           0.071269  1.000000 -0.341699   0.148506   \n",
       "pH                               -0.066495 -0.341699  1.000000  -0.196648   \n",
       "sulphates                         0.042947  0.148506 -0.196648   1.000000   \n",
       "alcohol                          -0.205654 -0.496180  0.205633   0.093595   \n",
       "quality                          -0.185100 -0.174919 -0.057731   0.251397   \n",
       "\n",
       "                       alcohol   quality  \n",
       "fixed acidity        -0.061668  0.124052  \n",
       "volatile acidity     -0.202288 -0.390558  \n",
       "citric acid           0.109903  0.226373  \n",
       "residual sugar        0.042075  0.013732  \n",
       "chlorides            -0.221141 -0.128907  \n",
       "free sulfur dioxide  -0.069408 -0.050656  \n",
       "total sulfur dioxide -0.205654 -0.185100  \n",
       "density              -0.496180 -0.174919  \n",
       "pH                    0.205633 -0.057731  \n",
       "sulphates             0.093595  0.251397  \n",
       "alcohol               1.000000  0.476166  \n",
       "quality               0.476166  1.000000  "
      ]
     },
     "execution_count": 26,
     "metadata": {},
     "output_type": "execute_result"
    }
   ],
   "source": [
    "df.corr()"
   ]
  },
  {
   "cell_type": "markdown",
   "metadata": {},
   "source": [
    "# Fitting and evaluating the model\n",
    "Now we will split the data into training and testing sets, train the regressor,\n",
    "and evaluate its predictions"
   ]
  },
  {
   "cell_type": "code",
   "execution_count": 27,
   "metadata": {
    "collapsed": false
   },
   "outputs": [
    {
     "name": "stdout",
     "output_type": "stream",
     "text": [
      "R-squared: 0.338003835966\n"
     ]
    }
   ],
   "source": [
    "from sklearn.cross_validation import train_test_split\n",
    "x = df[list(df.columns)[:-1]]\n",
    "y = df['quality'] # Target Data\n",
    "x_train, x_test, y_train, y_test = train_test_split(x, y)\n",
    "regressor = LinearRegression()\n",
    "regressor.fit(x_train, y_train)\n",
    "y_predictions = regressor.predict(x_test)\n",
    "print 'R-squared:', regressor.score(x_test, y_test)"
   ]
  },
  {
   "cell_type": "markdown",
   "metadata": {},
   "source": [
    "### In this we take all columns except 1 as a explanatory variable for Multiple Linear Regression."
   ]
  },
  {
   "cell_type": "code",
   "execution_count": 29,
   "metadata": {
    "collapsed": false
   },
   "outputs": [
    {
     "data": {
      "text/html": [
       "<div>\n",
       "<table border=\"1\" class=\"dataframe\">\n",
       "  <thead>\n",
       "    <tr style=\"text-align: right;\">\n",
       "      <th></th>\n",
       "      <th>fixed acidity</th>\n",
       "      <th>volatile acidity</th>\n",
       "      <th>citric acid</th>\n",
       "      <th>residual sugar</th>\n",
       "      <th>chlorides</th>\n",
       "      <th>free sulfur dioxide</th>\n",
       "      <th>total sulfur dioxide</th>\n",
       "      <th>density</th>\n",
       "      <th>pH</th>\n",
       "      <th>sulphates</th>\n",
       "      <th>alcohol</th>\n",
       "    </tr>\n",
       "  </thead>\n",
       "  <tbody>\n",
       "    <tr>\n",
       "      <th>0</th>\n",
       "      <td>7.4</td>\n",
       "      <td>0.70</td>\n",
       "      <td>0.00</td>\n",
       "      <td>1.9</td>\n",
       "      <td>0.076</td>\n",
       "      <td>11.0</td>\n",
       "      <td>34.0</td>\n",
       "      <td>0.9978</td>\n",
       "      <td>3.51</td>\n",
       "      <td>0.56</td>\n",
       "      <td>9.4</td>\n",
       "    </tr>\n",
       "    <tr>\n",
       "      <th>1</th>\n",
       "      <td>7.8</td>\n",
       "      <td>0.88</td>\n",
       "      <td>0.00</td>\n",
       "      <td>2.6</td>\n",
       "      <td>0.098</td>\n",
       "      <td>25.0</td>\n",
       "      <td>67.0</td>\n",
       "      <td>0.9968</td>\n",
       "      <td>3.20</td>\n",
       "      <td>0.68</td>\n",
       "      <td>9.8</td>\n",
       "    </tr>\n",
       "    <tr>\n",
       "      <th>2</th>\n",
       "      <td>7.8</td>\n",
       "      <td>0.76</td>\n",
       "      <td>0.04</td>\n",
       "      <td>2.3</td>\n",
       "      <td>0.092</td>\n",
       "      <td>15.0</td>\n",
       "      <td>54.0</td>\n",
       "      <td>0.9970</td>\n",
       "      <td>3.26</td>\n",
       "      <td>0.65</td>\n",
       "      <td>9.8</td>\n",
       "    </tr>\n",
       "    <tr>\n",
       "      <th>3</th>\n",
       "      <td>11.2</td>\n",
       "      <td>0.28</td>\n",
       "      <td>0.56</td>\n",
       "      <td>1.9</td>\n",
       "      <td>0.075</td>\n",
       "      <td>17.0</td>\n",
       "      <td>60.0</td>\n",
       "      <td>0.9980</td>\n",
       "      <td>3.16</td>\n",
       "      <td>0.58</td>\n",
       "      <td>9.8</td>\n",
       "    </tr>\n",
       "    <tr>\n",
       "      <th>4</th>\n",
       "      <td>7.4</td>\n",
       "      <td>0.70</td>\n",
       "      <td>0.00</td>\n",
       "      <td>1.9</td>\n",
       "      <td>0.076</td>\n",
       "      <td>11.0</td>\n",
       "      <td>34.0</td>\n",
       "      <td>0.9978</td>\n",
       "      <td>3.51</td>\n",
       "      <td>0.56</td>\n",
       "      <td>9.4</td>\n",
       "    </tr>\n",
       "  </tbody>\n",
       "</table>\n",
       "</div>"
      ],
      "text/plain": [
       "   fixed acidity  volatile acidity  citric acid  residual sugar  chlorides  \\\n",
       "0            7.4              0.70         0.00             1.9      0.076   \n",
       "1            7.8              0.88         0.00             2.6      0.098   \n",
       "2            7.8              0.76         0.04             2.3      0.092   \n",
       "3           11.2              0.28         0.56             1.9      0.075   \n",
       "4            7.4              0.70         0.00             1.9      0.076   \n",
       "\n",
       "   free sulfur dioxide  total sulfur dioxide  density    pH  sulphates  \\\n",
       "0                 11.0                  34.0   0.9978  3.51       0.56   \n",
       "1                 25.0                  67.0   0.9968  3.20       0.68   \n",
       "2                 15.0                  54.0   0.9970  3.26       0.65   \n",
       "3                 17.0                  60.0   0.9980  3.16       0.58   \n",
       "4                 11.0                  34.0   0.9978  3.51       0.56   \n",
       "\n",
       "   alcohol  \n",
       "0      9.4  \n",
       "1      9.8  \n",
       "2      9.8  \n",
       "3      9.8  \n",
       "4      9.4  "
      ]
     },
     "execution_count": 29,
     "metadata": {},
     "output_type": "execute_result"
    }
   ],
   "source": [
    "x[:5]"
   ]
  },
  {
   "cell_type": "code",
   "execution_count": 32,
   "metadata": {
    "collapsed": false
   },
   "outputs": [
    {
     "data": {
      "text/html": [
       "<div>\n",
       "<table border=\"1\" class=\"dataframe\">\n",
       "  <thead>\n",
       "    <tr style=\"text-align: right;\">\n",
       "      <th></th>\n",
       "      <th>fixed acidity</th>\n",
       "      <th>volatile acidity</th>\n",
       "      <th>citric acid</th>\n",
       "      <th>residual sugar</th>\n",
       "      <th>chlorides</th>\n",
       "      <th>free sulfur dioxide</th>\n",
       "      <th>total sulfur dioxide</th>\n",
       "      <th>density</th>\n",
       "      <th>pH</th>\n",
       "      <th>sulphates</th>\n",
       "      <th>alcohol</th>\n",
       "    </tr>\n",
       "  </thead>\n",
       "  <tbody>\n",
       "    <tr>\n",
       "      <th>count</th>\n",
       "      <td>1199.000000</td>\n",
       "      <td>1199.000000</td>\n",
       "      <td>1199.000000</td>\n",
       "      <td>1199.000000</td>\n",
       "      <td>1199.00000</td>\n",
       "      <td>1199.000000</td>\n",
       "      <td>1199.000000</td>\n",
       "      <td>1199.000000</td>\n",
       "      <td>1199.000000</td>\n",
       "      <td>1199.000000</td>\n",
       "      <td>1199.000000</td>\n",
       "    </tr>\n",
       "    <tr>\n",
       "      <th>mean</th>\n",
       "      <td>8.318932</td>\n",
       "      <td>0.530396</td>\n",
       "      <td>0.272193</td>\n",
       "      <td>2.541034</td>\n",
       "      <td>0.08731</td>\n",
       "      <td>15.861551</td>\n",
       "      <td>46.799416</td>\n",
       "      <td>0.996718</td>\n",
       "      <td>3.310042</td>\n",
       "      <td>0.655546</td>\n",
       "      <td>10.424812</td>\n",
       "    </tr>\n",
       "    <tr>\n",
       "      <th>std</th>\n",
       "      <td>1.744531</td>\n",
       "      <td>0.183484</td>\n",
       "      <td>0.196491</td>\n",
       "      <td>1.403824</td>\n",
       "      <td>0.04527</td>\n",
       "      <td>10.334676</td>\n",
       "      <td>33.441662</td>\n",
       "      <td>0.001890</td>\n",
       "      <td>0.153837</td>\n",
       "      <td>0.165506</td>\n",
       "      <td>1.068874</td>\n",
       "    </tr>\n",
       "    <tr>\n",
       "      <th>min</th>\n",
       "      <td>4.600000</td>\n",
       "      <td>0.120000</td>\n",
       "      <td>0.000000</td>\n",
       "      <td>0.900000</td>\n",
       "      <td>0.01200</td>\n",
       "      <td>1.000000</td>\n",
       "      <td>6.000000</td>\n",
       "      <td>0.990070</td>\n",
       "      <td>2.740000</td>\n",
       "      <td>0.330000</td>\n",
       "      <td>8.400000</td>\n",
       "    </tr>\n",
       "    <tr>\n",
       "      <th>25%</th>\n",
       "      <td>7.100000</td>\n",
       "      <td>0.390000</td>\n",
       "      <td>0.090000</td>\n",
       "      <td>1.900000</td>\n",
       "      <td>0.07000</td>\n",
       "      <td>7.000000</td>\n",
       "      <td>22.000000</td>\n",
       "      <td>0.995590</td>\n",
       "      <td>3.210000</td>\n",
       "      <td>0.550000</td>\n",
       "      <td>9.500000</td>\n",
       "    </tr>\n",
       "    <tr>\n",
       "      <th>50%</th>\n",
       "      <td>7.900000</td>\n",
       "      <td>0.520000</td>\n",
       "      <td>0.260000</td>\n",
       "      <td>2.200000</td>\n",
       "      <td>0.07900</td>\n",
       "      <td>14.000000</td>\n",
       "      <td>38.000000</td>\n",
       "      <td>0.996740</td>\n",
       "      <td>3.310000</td>\n",
       "      <td>0.620000</td>\n",
       "      <td>10.100000</td>\n",
       "    </tr>\n",
       "    <tr>\n",
       "      <th>75%</th>\n",
       "      <td>9.200000</td>\n",
       "      <td>0.640000</td>\n",
       "      <td>0.430000</td>\n",
       "      <td>2.600000</td>\n",
       "      <td>0.09100</td>\n",
       "      <td>22.000000</td>\n",
       "      <td>62.500000</td>\n",
       "      <td>0.997800</td>\n",
       "      <td>3.400000</td>\n",
       "      <td>0.730000</td>\n",
       "      <td>11.100000</td>\n",
       "    </tr>\n",
       "    <tr>\n",
       "      <th>max</th>\n",
       "      <td>15.600000</td>\n",
       "      <td>1.580000</td>\n",
       "      <td>1.000000</td>\n",
       "      <td>15.500000</td>\n",
       "      <td>0.61000</td>\n",
       "      <td>72.000000</td>\n",
       "      <td>289.000000</td>\n",
       "      <td>1.003690</td>\n",
       "      <td>4.010000</td>\n",
       "      <td>2.000000</td>\n",
       "      <td>14.000000</td>\n",
       "    </tr>\n",
       "  </tbody>\n",
       "</table>\n",
       "</div>"
      ],
      "text/plain": [
       "       fixed acidity  volatile acidity  citric acid  residual sugar  \\\n",
       "count    1199.000000       1199.000000  1199.000000     1199.000000   \n",
       "mean        8.318932          0.530396     0.272193        2.541034   \n",
       "std         1.744531          0.183484     0.196491        1.403824   \n",
       "min         4.600000          0.120000     0.000000        0.900000   \n",
       "25%         7.100000          0.390000     0.090000        1.900000   \n",
       "50%         7.900000          0.520000     0.260000        2.200000   \n",
       "75%         9.200000          0.640000     0.430000        2.600000   \n",
       "max        15.600000          1.580000     1.000000       15.500000   \n",
       "\n",
       "        chlorides  free sulfur dioxide  total sulfur dioxide      density  \\\n",
       "count  1199.00000          1199.000000           1199.000000  1199.000000   \n",
       "mean      0.08731            15.861551             46.799416     0.996718   \n",
       "std       0.04527            10.334676             33.441662     0.001890   \n",
       "min       0.01200             1.000000              6.000000     0.990070   \n",
       "25%       0.07000             7.000000             22.000000     0.995590   \n",
       "50%       0.07900            14.000000             38.000000     0.996740   \n",
       "75%       0.09100            22.000000             62.500000     0.997800   \n",
       "max       0.61000            72.000000            289.000000     1.003690   \n",
       "\n",
       "                pH    sulphates      alcohol  \n",
       "count  1199.000000  1199.000000  1199.000000  \n",
       "mean      3.310042     0.655546    10.424812  \n",
       "std       0.153837     0.165506     1.068874  \n",
       "min       2.740000     0.330000     8.400000  \n",
       "25%       3.210000     0.550000     9.500000  \n",
       "50%       3.310000     0.620000    10.100000  \n",
       "75%       3.400000     0.730000    11.100000  \n",
       "max       4.010000     2.000000    14.000000  "
      ]
     },
     "execution_count": 32,
     "metadata": {},
     "output_type": "execute_result"
    }
   ],
   "source": [
    "x_train.describe()"
   ]
  },
  {
   "cell_type": "code",
   "execution_count": 33,
   "metadata": {
    "collapsed": false
   },
   "outputs": [
    {
     "data": {
      "text/html": [
       "<div>\n",
       "<table border=\"1\" class=\"dataframe\">\n",
       "  <thead>\n",
       "    <tr style=\"text-align: right;\">\n",
       "      <th></th>\n",
       "      <th>fixed acidity</th>\n",
       "      <th>volatile acidity</th>\n",
       "      <th>citric acid</th>\n",
       "      <th>residual sugar</th>\n",
       "      <th>chlorides</th>\n",
       "      <th>free sulfur dioxide</th>\n",
       "      <th>total sulfur dioxide</th>\n",
       "      <th>density</th>\n",
       "      <th>pH</th>\n",
       "      <th>sulphates</th>\n",
       "      <th>alcohol</th>\n",
       "    </tr>\n",
       "  </thead>\n",
       "  <tbody>\n",
       "    <tr>\n",
       "      <th>count</th>\n",
       "      <td>400.000000</td>\n",
       "      <td>400.000000</td>\n",
       "      <td>400.000000</td>\n",
       "      <td>400.000000</td>\n",
       "      <td>400.000000</td>\n",
       "      <td>400.000000</td>\n",
       "      <td>400.000000</td>\n",
       "      <td>400.000000</td>\n",
       "      <td>400.000000</td>\n",
       "      <td>400.000000</td>\n",
       "      <td>400.000000</td>\n",
       "    </tr>\n",
       "    <tr>\n",
       "      <th>mean</th>\n",
       "      <td>8.321750</td>\n",
       "      <td>0.520100</td>\n",
       "      <td>0.267325</td>\n",
       "      <td>2.532125</td>\n",
       "      <td>0.087935</td>\n",
       "      <td>15.915000</td>\n",
       "      <td>45.473750</td>\n",
       "      <td>0.996832</td>\n",
       "      <td>3.314325</td>\n",
       "      <td>0.665950</td>\n",
       "      <td>10.417500</td>\n",
       "    </tr>\n",
       "    <tr>\n",
       "      <th>std</th>\n",
       "      <td>1.732934</td>\n",
       "      <td>0.165067</td>\n",
       "      <td>0.189841</td>\n",
       "      <td>1.429820</td>\n",
       "      <td>0.052136</td>\n",
       "      <td>10.840737</td>\n",
       "      <td>31.219791</td>\n",
       "      <td>0.001880</td>\n",
       "      <td>0.156171</td>\n",
       "      <td>0.180963</td>\n",
       "      <td>1.057308</td>\n",
       "    </tr>\n",
       "    <tr>\n",
       "      <th>min</th>\n",
       "      <td>4.700000</td>\n",
       "      <td>0.120000</td>\n",
       "      <td>0.000000</td>\n",
       "      <td>0.900000</td>\n",
       "      <td>0.034000</td>\n",
       "      <td>1.000000</td>\n",
       "      <td>7.000000</td>\n",
       "      <td>0.990070</td>\n",
       "      <td>2.890000</td>\n",
       "      <td>0.370000</td>\n",
       "      <td>8.400000</td>\n",
       "    </tr>\n",
       "    <tr>\n",
       "      <th>25%</th>\n",
       "      <td>7.200000</td>\n",
       "      <td>0.400000</td>\n",
       "      <td>0.100000</td>\n",
       "      <td>1.900000</td>\n",
       "      <td>0.070750</td>\n",
       "      <td>7.000000</td>\n",
       "      <td>22.000000</td>\n",
       "      <td>0.995675</td>\n",
       "      <td>3.210000</td>\n",
       "      <td>0.560000</td>\n",
       "      <td>9.500000</td>\n",
       "    </tr>\n",
       "    <tr>\n",
       "      <th>50%</th>\n",
       "      <td>7.900000</td>\n",
       "      <td>0.515000</td>\n",
       "      <td>0.260000</td>\n",
       "      <td>2.200000</td>\n",
       "      <td>0.079000</td>\n",
       "      <td>14.000000</td>\n",
       "      <td>37.000000</td>\n",
       "      <td>0.996790</td>\n",
       "      <td>3.320000</td>\n",
       "      <td>0.620000</td>\n",
       "      <td>10.200000</td>\n",
       "    </tr>\n",
       "    <tr>\n",
       "      <th>75%</th>\n",
       "      <td>9.200000</td>\n",
       "      <td>0.620000</td>\n",
       "      <td>0.412500</td>\n",
       "      <td>2.600000</td>\n",
       "      <td>0.089000</td>\n",
       "      <td>21.000000</td>\n",
       "      <td>60.500000</td>\n",
       "      <td>0.998000</td>\n",
       "      <td>3.402500</td>\n",
       "      <td>0.730000</td>\n",
       "      <td>11.000000</td>\n",
       "    </tr>\n",
       "    <tr>\n",
       "      <th>max</th>\n",
       "      <td>15.900000</td>\n",
       "      <td>1.020000</td>\n",
       "      <td>0.760000</td>\n",
       "      <td>15.400000</td>\n",
       "      <td>0.611000</td>\n",
       "      <td>68.000000</td>\n",
       "      <td>151.000000</td>\n",
       "      <td>1.003690</td>\n",
       "      <td>3.900000</td>\n",
       "      <td>1.950000</td>\n",
       "      <td>14.900000</td>\n",
       "    </tr>\n",
       "  </tbody>\n",
       "</table>\n",
       "</div>"
      ],
      "text/plain": [
       "       fixed acidity  volatile acidity  citric acid  residual sugar  \\\n",
       "count     400.000000        400.000000   400.000000      400.000000   \n",
       "mean        8.321750          0.520100     0.267325        2.532125   \n",
       "std         1.732934          0.165067     0.189841        1.429820   \n",
       "min         4.700000          0.120000     0.000000        0.900000   \n",
       "25%         7.200000          0.400000     0.100000        1.900000   \n",
       "50%         7.900000          0.515000     0.260000        2.200000   \n",
       "75%         9.200000          0.620000     0.412500        2.600000   \n",
       "max        15.900000          1.020000     0.760000       15.400000   \n",
       "\n",
       "        chlorides  free sulfur dioxide  total sulfur dioxide     density  \\\n",
       "count  400.000000           400.000000            400.000000  400.000000   \n",
       "mean     0.087935            15.915000             45.473750    0.996832   \n",
       "std      0.052136            10.840737             31.219791    0.001880   \n",
       "min      0.034000             1.000000              7.000000    0.990070   \n",
       "25%      0.070750             7.000000             22.000000    0.995675   \n",
       "50%      0.079000            14.000000             37.000000    0.996790   \n",
       "75%      0.089000            21.000000             60.500000    0.998000   \n",
       "max      0.611000            68.000000            151.000000    1.003690   \n",
       "\n",
       "               pH   sulphates     alcohol  \n",
       "count  400.000000  400.000000  400.000000  \n",
       "mean     3.314325    0.665950   10.417500  \n",
       "std      0.156171    0.180963    1.057308  \n",
       "min      2.890000    0.370000    8.400000  \n",
       "25%      3.210000    0.560000    9.500000  \n",
       "50%      3.320000    0.620000   10.200000  \n",
       "75%      3.402500    0.730000   11.000000  \n",
       "max      3.900000    1.950000   14.900000  "
      ]
     },
     "execution_count": 33,
     "metadata": {},
     "output_type": "execute_result"
    }
   ],
   "source": [
    "x_test.describe()"
   ]
  },
  {
   "cell_type": "markdown",
   "metadata": {},
   "source": [
    "By default, 25 percent of the\n",
    "data is assigned to the test set. Finally, we trained the model and evaluated it on the\n",
    "test set.\n",
    "\n",
    "The r-squared score of 0.35 indicates that 35 percent of the variance in the test set\n",
    "is explained by the model. The performance might change if a different 75 percent\n",
    "of the data is partitioned to the training set. We can use cross-validation to produce\n",
    "a better estimate of the estimator's performance."
   ]
  },
  {
   "cell_type": "code",
   "execution_count": 34,
   "metadata": {
    "collapsed": false
   },
   "outputs": [
    {
     "name": "stdout",
     "output_type": "stream",
     "text": [
      "0.290041628842 [ 0.13200871  0.31858135  0.34955348  0.369145    0.2809196 ]\n"
     ]
    }
   ],
   "source": [
    "from sklearn.cross_validation import cross_val_score\n",
    "regressor = LinearRegression()\n",
    "scores = cross_val_score(regressor,x,y, cv=5)\n",
    "print scores.mean(), scores"
   ]
  },
  {
   "cell_type": "markdown",
   "metadata": {},
   "source": [
    "The cross_val_score helper function allows us to easily perform cross-validation\n",
    "using the provided data and estimator. We specified a five-fold cross validation\n",
    "using the cv keyword argument, that is, each instance will be randomly assigned\n",
    "to one of the five partitions. Each partition will be used to train and test the model.\n",
    "cross_val_score returns the value of the estimator's score method for each\n",
    "round. The r-squared scores range from 0.13 to 0.36! The mean of the scores, 0.29, is a\n",
    "better estimate of the estimator's predictive power than the r-squared score produced\n",
    "from a single train / test split."
   ]
  },
  {
   "cell_type": "markdown",
   "metadata": {},
   "source": [
    "# Fitting models with gradient descent\n",
    "Let's use stochastic gradient descent to estimate the parameters of a model with\n",
    "scikit-learn. SGDRegressor is an implementation of SGD that can be used even for\n",
    "regression problems with hundreds of thousands or more features. It can be used\n",
    "to optimize different cost functions to fit different linear models; by default, it will\n",
    "optimize the residual sum of squares. In this example, we will predict the prices of\n",
    "houses in the Boston Housing data set from 13 explanatory variables"
   ]
  },
  {
   "cell_type": "code",
   "execution_count": 35,
   "metadata": {
    "collapsed": false
   },
   "outputs": [
    {
     "name": "stdout",
     "output_type": "stream",
     "text": [
      "Cross validation r-squared scores: [ 0.61108486  0.77492527  0.64062927  0.64084721  0.72011378]\n",
      "Average cross validation r-squared score: 0.67752007555\n",
      "Test set r-squared score 0.722391567157\n"
     ]
    },
    {
     "name": "stderr",
     "output_type": "stream",
     "text": [
      "C:\\Anaconda2\\lib\\site-packages\\sklearn\\preprocessing\\data.py:583: DeprecationWarning: Passing 1d arrays as data is deprecated in 0.17 and will raise ValueError in 0.19. Reshape your data either using X.reshape(-1, 1) if your data has a single feature or X.reshape(1, -1) if it contains a single sample.\n",
      "  warnings.warn(DEPRECATION_MSG_1D, DeprecationWarning)\n",
      "C:\\Anaconda2\\lib\\site-packages\\sklearn\\preprocessing\\data.py:646: DeprecationWarning: Passing 1d arrays as data is deprecated in 0.17 and will raise ValueError in 0.19. Reshape your data either using X.reshape(-1, 1) if your data has a single feature or X.reshape(1, -1) if it contains a single sample.\n",
      "  warnings.warn(DEPRECATION_MSG_1D, DeprecationWarning)\n",
      "C:\\Anaconda2\\lib\\site-packages\\sklearn\\preprocessing\\data.py:646: DeprecationWarning: Passing 1d arrays as data is deprecated in 0.17 and will raise ValueError in 0.19. Reshape your data either using X.reshape(-1, 1) if your data has a single feature or X.reshape(1, -1) if it contains a single sample.\n",
      "  warnings.warn(DEPRECATION_MSG_1D, DeprecationWarning)\n",
      "C:\\Anaconda2\\lib\\site-packages\\sklearn\\utils\\__init__.py:93: DeprecationWarning: Function transform is deprecated; Support to use estimators as feature selectors will be removed in version 0.19. Use SelectFromModel instead.\n",
      "  warnings.warn(msg, category=DeprecationWarning)\n"
     ]
    }
   ],
   "source": [
    "from sklearn.datasets import load_boston\n",
    "from sklearn.linear_model import SGDRegressor\n",
    "from sklearn.cross_validation import cross_val_score\n",
    "from sklearn.preprocessing import StandardScaler\n",
    "from sklearn.cross_validation import train_test_split\n",
    "data = load_boston()\n",
    "x_train,x_test,y_train,y_test = train_test_split(data.data,data.target)\n",
    "\n",
    "x_scaler = StandardScaler() #we scaled the features using StandardScaler\n",
    "y_scaler = StandardScaler()\n",
    "x_train = x_scaler.fit_transform(x_train)\n",
    "y_train = y_scaler.fit_transform(y_train)\n",
    "x_test = x_scaler.transform(x_test)\n",
    "y_test = y_scaler.transform(y_test)\n",
    "\n",
    "regressor = SGDRegressor(loss='squared_loss')\n",
    "scores = cross_val_score(regressor, x_train, y_train, cv=5)\n",
    "print 'Cross validation r-squared scores:', scores\n",
    "print 'Average cross validation r-squared score:', np.mean(scores)\n",
    "regressor.fit_transform(x_train, y_train)\n",
    "print 'Test set r-squared score', regressor.score(x_test, y_test)"
   ]
  },
  {
   "cell_type": "markdown",
   "metadata": {
    "collapsed": true
   },
   "source": [
    "## Stepwise Regression\n",
    "\n",
    "The step-by-step iterative construction of a regression model that involves automatic selection of independent variables. Stepwise regression can be achieved either by trying out one independent variable at a time and including it in the regression model if it is statistically significant, or by including all potential independent variables in the model and eliminating those that are not statistically significant, or by a combination of both methods.\n",
    "\n",
    "#### BREAKING DOWN Stepwise Regression\n",
    "Stepwise regression has a number of drawbacks, according to some statisticians. These include incorrect results, an inherent bias in the process itself and the necessity for significant computing power to develop complex regression models through iteration.\n"
   ]
  },
  {
   "cell_type": "code",
   "execution_count": null,
   "metadata": {
    "collapsed": true
   },
   "outputs": [],
   "source": []
  }
 ],
 "metadata": {
  "anaconda-cloud": {},
  "kernelspec": {
   "display_name": "Python [Root]",
   "language": "python",
   "name": "Python [Root]"
  },
  "language_info": {
   "codemirror_mode": {
    "name": "ipython",
    "version": 2
   },
   "file_extension": ".py",
   "mimetype": "text/x-python",
   "name": "python",
   "nbconvert_exporter": "python",
   "pygments_lexer": "ipython2",
   "version": "2.7.12"
  }
 },
 "nbformat": 4,
 "nbformat_minor": 0
}
